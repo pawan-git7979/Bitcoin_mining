{
  "nbformat": 4,
  "nbformat_minor": 0,
  "metadata": {
    "colab": {
      "name": "Bitcoin_mining.ipynb",
      "provenance": [],
      "collapsed_sections": []
    },
    "kernelspec": {
      "name": "python3",
      "display_name": "Python 3"
    },
    "language_info": {
      "name": "python"
    },
    "accelerator": "GPU"
  },
  "cells": [
    {
      "cell_type": "code",
      "metadata": {
        "colab": {
          "base_uri": "https://localhost:8080/"
        },
        "id": "Uh93JUc4qelN",
        "outputId": "5eb1b48a-56b3-4bd6-b4cf-b9ef92b17cac"
      },
      "source": [
        "from hashlib import sha256\n",
        "MAX_NONCE = 100000000000\n",
        "\n",
        "def SHA256(text):\n",
        "    return sha256(text.encode(\"ascii\")).hexdigest()\n",
        "\n",
        "def mine(block_number, transactions, previous_hash, prefix_zeros):\n",
        "    prefix_str = '0'*prefix_zeros\n",
        "    text = str(block_number) + transactions + previous_hash\n",
        "    for nonce in range(MAX_NONCE):\n",
        "        text = text + str(nonce)\n",
        "        new_hash = SHA256(text)\n",
        "        if new_hash.startswith(prefix_str):\n",
        "            print(f\"Yay! Successfully mined bitcoins with nonce value:{nonce}\")\n",
        "            return new_hash\n",
        "\n",
        "    raise BaseException(f\"Couldn't find correct has after trying {MAX_NONCE} times\")\n",
        "\n",
        "if __name__=='__main__':\n",
        "    transactions='''\n",
        "    Dhaval->Bhavin->20,\n",
        "    Mando->Cara->45\n",
        "    '''\n",
        "    difficulty=4 # try changing this to higher number and you will see it will take more time for mining as difficulty increases\n",
        "    import time\n",
        "    start = time.time()\n",
        "    print(\"start mining\")\n",
        "    new_hash = mine(5,transactions,'0000000xa036944e29568d0cff17edbe038f81208fecf9a66be9a2b8321c6ec7', difficulty)\n",
        "    total_time = str((time.time() - start))\n",
        "    print(f\"end mining. Mining took: {total_time} seconds\")\n",
        "    print(new_hash)"
      ],
      "execution_count": 4,
      "outputs": [
        {
          "output_type": "stream",
          "text": [
            "start mining\n",
            "Yay! Successfully mined bitcoins with nonce value:32611\n",
            "end mining. Mining took: 7.063439846038818 seconds\n",
            "000096959d30d18b9e28ec60861ff70ab512c3fcd2d6e4bf22a4e450d847f71a\n"
          ],
          "name": "stdout"
        }
      ]
    },
    {
      "cell_type": "code",
      "metadata": {
        "id": "YnCEO4izq940"
      },
      "source": [
        ""
      ],
      "execution_count": null,
      "outputs": []
    }
  ]
}